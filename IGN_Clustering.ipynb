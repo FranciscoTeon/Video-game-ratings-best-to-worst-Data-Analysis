{
  "nbformat": 4,
  "nbformat_minor": 0,
  "metadata": {
    "colab": {
      "provenance": [],
      "authorship_tag": "ABX9TyOxcevqv2s62cOTfOAun2NK",
      "include_colab_link": true
    },
    "kernelspec": {
      "name": "python3",
      "display_name": "Python 3"
    },
    "language_info": {
      "name": "python"
    }
  },
  "cells": [
    {
      "cell_type": "markdown",
      "metadata": {
        "id": "view-in-github",
        "colab_type": "text"
      },
      "source": [
        "<a href=\"https://colab.research.google.com/github/FranciscoTeon/Video-game-ratings-best-to-worst-Data-Analysis/blob/main/IGN_Clustering.ipynb\" target=\"_parent\"><img src=\"https://colab.research.google.com/assets/colab-badge.svg\" alt=\"Open In Colab\"/></a>"
      ]
    },
    {
      "cell_type": "code",
      "source": [
        "import numpy as np\n",
        "import pandas as pd\n",
        "import random\n",
        "import matplotlib.pyplot as plt\n",
        "import seaborn as sns\n",
        "import folium\n",
        "from folium.plugins import HeatMap\n",
        "from sklearn.cluster import KMeans"
      ],
      "metadata": {
        "id": "Cc7FI8S2h1ah"
      },
      "execution_count": 2,
      "outputs": []
    },
    {
      "cell_type": "code",
      "execution_count": 3,
      "metadata": {
        "id": "bLmrhEKehTre"
      },
      "outputs": [],
      "source": [
        "class CutsomKMeans:\n",
        "    def __init__(self, k):\n",
        "        self.k = k\n",
        "        self.kmeans = KMeans(n_clusters=self.k)\n",
        "\n",
        "    def fit(self, data):\n",
        "        #Fits the KMeans model to the data\n",
        "        self.kmeans.fit(data)\n",
        "\n",
        "    def predict(self, data):\n",
        "        #Predicts the cluster for each sample in the data\n",
        "        return self.kmeans.predict(data)\n",
        "\n",
        "    def get_labels(self):\n",
        "        #Returns the cluster labels\n",
        "        return self.kmeans.labels_\n",
        "\n",
        "        #sse method\n",
        "    def get_cluster_centers(self):\n",
        "        #Returns the cluster center\n",
        "        return self.kmeans.cluster_centers_"
      ]
    }
  ]
}